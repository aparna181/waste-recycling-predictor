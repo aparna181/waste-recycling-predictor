{
 "cells": [
  {
   "cell_type": "code",
   "execution_count": 1,
   "id": "f6f81648",
   "metadata": {},
   "outputs": [
    {
     "name": "stderr",
     "output_type": "stream",
     "text": [
      "d:\\waste_management\\venv\\lib\\site-packages\\tqdm\\auto.py:21: TqdmWarning: IProgress not found. Please update jupyter and ipywidgets. See https://ipywidgets.readthedocs.io/en/stable/user_install.html\n",
      "  from .autonotebook import tqdm as notebook_tqdm\n"
     ]
    }
   ],
   "source": [
    "import pandas as pd\n",
    "from catboost import CatBoostRegressor, Pool\n",
    "import optuna\n",
    "from sklearn.metrics import mean_squared_error\n",
    "import numpy as np"
   ]
  },
  {
   "cell_type": "code",
   "execution_count": 2,
   "id": "15b9363d",
   "metadata": {},
   "outputs": [],
   "source": [
    "# Load your feature-engineered dataset\n",
    "df = pd.read_csv('D:\\waste_management\\data\\processed\\waste_data_feature_engineered.csv')"
   ]
  },
  {
   "cell_type": "code",
   "execution_count": 3,
   "id": "31daa9ed",
   "metadata": {},
   "outputs": [],
   "source": [
    "target = 'Recycling Rate (%)'\n",
    "categorical_cols = ['City/District', 'Waste Type', 'Disposal Method', 'Landfill Name']"
   ]
  },
  {
   "cell_type": "code",
   "execution_count": 4,
   "id": "b508bbe4",
   "metadata": {},
   "outputs": [],
   "source": [
    "# Prepare train and test splits by year\n",
    "train_df = df[df['Year'] < 2023].reset_index(drop=True)\n",
    "test_df = df[df['Year'] == 2023].reset_index(drop=True)\n",
    "\n",
    "y_train = train_df[target]\n",
    "y_test = test_df[target]\n"
   ]
  },
  {
   "cell_type": "code",
   "execution_count": 5,
   "id": "b92e1c83",
   "metadata": {},
   "outputs": [],
   "source": [
    "# Ensure categorical columns are of 'category' dtype, necessary for CatBoost native handling\n",
    "for col in categorical_cols:\n",
    "    train_df[col] = train_df[col].astype('category')\n",
    "    test_df[col] = test_df[col].astype('category')"
   ]
  },
  {
   "cell_type": "code",
   "execution_count": 6,
   "id": "55273706",
   "metadata": {},
   "outputs": [],
   "source": [
    "# Feature columns excluding target and non-feature columns\n",
    "exclude_cols = [target, 'Year', 'City_WasteType']\n",
    "feature_cols = [col for col in df.columns if col not in exclude_cols]\n",
    "\n",
    "train_pool = Pool(data=train_df[feature_cols], label=y_train, cat_features=[feature_cols.index(c) for c in categorical_cols])\n",
    "test_pool = Pool(data=test_df[feature_cols], label=y_test, cat_features=[feature_cols.index(c) for c in categorical_cols])"
   ]
  },
  {
   "cell_type": "code",
   "execution_count": 7,
   "id": "c310e6be",
   "metadata": {},
   "outputs": [],
   "source": [
    "def objective(trial):\n",
    "    params = {\n",
    "        'iterations': trial.suggest_int('iterations', 500, 2000),\n",
    "        'depth': trial.suggest_int('depth', 4, 10),\n",
    "        'learning_rate': trial.suggest_float('learning_rate', 0.01, 0.2, log=True),\n",
    "        'l2_leaf_reg': trial.suggest_float('l2_leaf_reg', 1, 10),\n",
    "        'border_count': trial.suggest_int('border_count', 32, 255),\n",
    "        'random_seed': 42,\n",
    "        'eval_metric': 'RMSE',\n",
    "        'verbose': False,\n",
    "        'early_stopping_rounds': 50\n",
    "    }\n",
    "\n",
    "    model = CatBoostRegressor(**params)\n",
    "    model.fit(train_pool, eval_set=test_pool, use_best_model=True)\n",
    "\n",
    "    preds = model.predict(test_df[feature_cols])\n",
    "    rmse = np.sqrt(mean_squared_error(y_test, preds))\n",
    "    return rmse"
   ]
  },
  {
   "cell_type": "code",
   "execution_count": null,
   "id": "2f2cbc72",
   "metadata": {},
   "outputs": [
    {
     "name": "stderr",
     "output_type": "stream",
     "text": [
      "\u001b[32m[I 2025-08-10 19:23:58,870]\u001b[0m A new study created in memory with name: CatBoost_Hyperparam_Tuning\u001b[0m\n",
      "\u001b[32m[I 2025-08-10 19:24:02,504]\u001b[0m Trial 0 finished with value: 14.46669058270715 and parameters: {'iterations': 867, 'depth': 6, 'learning_rate': 0.08271594247571787, 'l2_leaf_reg': 3.694190531286841, 'border_count': 239}. Best is trial 0 with value: 14.46669058270715.\u001b[0m\n"
     ]
    }
   ],
   "source": [
    "# Create Optuna study to minimize RMSE\n",
    "study = optuna.create_study(direction='minimize', study_name=\"CatBoost_Hyperparam_Tuning\")\n",
    "study.optimize(objective, n_trials=50, timeout=1800)  # Run for 50 trials or 30 minutes\n",
    "\n",
    "print(f\"Best Trial RMSE: {study.best_value:.4f}\")\n",
    "print(\"Best Hyperparameters:\")\n",
    "for key, value in study.best_params.items():\n",
    "    print(f\"  {key}: {value}\")"
   ]
  },
  {
   "cell_type": "code",
   "execution_count": null,
   "id": "9e22392d",
   "metadata": {},
   "outputs": [],
   "source": [
    "final_params = {\n",
    "    'iterations': 1490,\n",
    "    'depth': 5,\n",
    "    'learning_rate': 0.07852514854846948,\n",
    "    'l2_leaf_reg': 6.7065746334612495,\n",
    "    'border_count': 180,\n",
    "    'random_seed': 42,\n",
    "    'eval_metric': 'RMSE',\n",
    "    'verbose': 100,\n",
    "    'early_stopping_rounds': 100\n",
    "}"
   ]
  },
  {
   "cell_type": "code",
   "execution_count": null,
   "id": "6c66ba5e",
   "metadata": {},
   "outputs": [
    {
     "name": "stdout",
     "output_type": "stream",
     "text": [
      "0:\tlearn: 16.0109655\ttest: 15.8467568\tbest: 15.8467568 (0)\ttotal: 24.9ms\tremaining: 37s\n",
      "100:\tlearn: 12.5058879\ttest: 14.0624829\tbest: 14.0624829 (100)\ttotal: 2.62s\tremaining: 36s\n",
      "200:\tlearn: 10.7901829\ttest: 14.3305091\tbest: 13.9590936 (130)\ttotal: 5.21s\tremaining: 33.4s\n",
      "Stopped by overfitting detector  (100 iterations wait)\n",
      "\n",
      "bestTest = 13.95909358\n",
      "bestIteration = 130\n",
      "\n",
      "Shrink model to first 131 iterations.\n"
     ]
    },
    {
     "data": {
      "text/plain": [
       "<catboost.core.CatBoostRegressor at 0x19366c34c40>"
      ]
     },
     "execution_count": 15,
     "metadata": {},
     "output_type": "execute_result"
    }
   ],
   "source": [
    "final_model = CatBoostRegressor(**final_params)\n",
    "final_model.fit(train_pool, eval_set=test_pool, use_best_model=True)"
   ]
  },
  {
   "cell_type": "code",
   "execution_count": null,
   "id": "8ea4a51c",
   "metadata": {},
   "outputs": [
    {
     "name": "stdout",
     "output_type": "stream",
     "text": [
      "Final RMSE: 13.9591\n",
      "Final R²: 0.2336\n"
     ]
    }
   ],
   "source": [
    "from sklearn.metrics import r2_score\n",
    "# Evaluate\n",
    "final_preds = final_model.predict(test_df[feature_cols])\n",
    "final_rmse = np.sqrt(mean_squared_error(y_test, final_preds))\n",
    "final_r2 = r2_score(y_test, final_preds)\n",
    "\n",
    "print(f\"Final RMSE: {final_rmse:.4f}\")\n",
    "print(f\"Final R²: {final_r2:.4f}\")"
   ]
  },
  {
   "cell_type": "code",
   "execution_count": null,
   "id": "e9291807",
   "metadata": {},
   "outputs": [
    {
     "data": {
      "text/plain": [
       "['D:\\\\waste_management\\\\models\\\\catboost_tuned_model.pkl']"
      ]
     },
     "execution_count": 18,
     "metadata": {},
     "output_type": "execute_result"
    }
   ],
   "source": [
    "import joblib\n",
    "final_model.save_model(\"D:\\waste_management\\models\\catboost_tuned_model.cbm\")\n",
    "joblib.dump(final_model, \"D:\\waste_management\\models\\catboost_tuned_model.pkl\")\n"
   ]
  },
  {
   "cell_type": "code",
   "execution_count": null,
   "id": "10232aad",
   "metadata": {},
   "outputs": [],
   "source": []
  }
 ],
 "metadata": {
  "kernelspec": {
   "display_name": "venv",
   "language": "python",
   "name": "python3"
  },
  "language_info": {
   "codemirror_mode": {
    "name": "ipython",
    "version": 3
   },
   "file_extension": ".py",
   "mimetype": "text/x-python",
   "name": "python",
   "nbconvert_exporter": "python",
   "pygments_lexer": "ipython3",
   "version": "3.10.11"
  }
 },
 "nbformat": 4,
 "nbformat_minor": 5
}
