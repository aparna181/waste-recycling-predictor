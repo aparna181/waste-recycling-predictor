{
 "cells": [
  {
   "cell_type": "code",
   "execution_count": 1,
   "id": "894e05b8",
   "metadata": {},
   "outputs": [],
   "source": [
    "import pandas as pd\n",
    "import numpy as np\n",
    "from sklearn.cluster import KMeans"
   ]
  },
  {
   "cell_type": "code",
   "execution_count": 2,
   "id": "fdff534b",
   "metadata": {},
   "outputs": [],
   "source": [
    "# Load cleaned data\n",
    "df = pd.read_csv('D:\\waste_management\\data\\processed\\waste_data_cleaned.csv')"
   ]
  },
  {
   "cell_type": "markdown",
   "id": "186adc7a",
   "metadata": {},
   "source": [
    "Transform skewed numeric features (e.g., Waste Generated, Cost)"
   ]
  },
  {
   "cell_type": "code",
   "execution_count": 3,
   "id": "a2f651e5",
   "metadata": {},
   "outputs": [
    {
     "name": "stdout",
     "output_type": "stream",
     "text": [
      "Transformed Waste Generated (Tons/Day) with log1p into Waste Generated (Tons/Day)_log\n",
      "Transformed Cost of Waste Management (₹/Ton) with log1p into Cost of Waste Management (₹/Ton)_log\n"
     ]
    }
   ],
   "source": [
    "\n",
    "for col in ['Waste Generated (Tons/Day)', 'Cost of Waste Management (₹/Ton)']:\n",
    "    new_col = col + '_log'\n",
    "    # Add a small constant to avoid log(0)\n",
    "    df[new_col] = np.log1p(df[col])\n",
    "    print(f\"Transformed {col} with log1p into {new_col}\")"
   ]
  },
  {
   "cell_type": "markdown",
   "id": "8c3f8d7d",
   "metadata": {},
   "source": [
    "Interaction Features"
   ]
  },
  {
   "cell_type": "code",
   "execution_count": 4,
   "id": "e311e7bf",
   "metadata": {},
   "outputs": [],
   "source": [
    "# Combine City and Waste Type into a new feature\n",
    "df['City_WasteType'] = df['City/District'].astype(str) + '_' + df['Waste Type'].astype(str)\n",
    "\n",
    "# Interaction between Municipal Efficiency and Campaigns\n",
    "df['Eff_Campaign_Interaction'] = df['Municipal Efficiency Score (1-10)'] * df['Awareness Campaigns Count']"
   ]
  },
  {
   "cell_type": "markdown",
   "id": "fd459555",
   "metadata": {},
   "source": [
    "Geospatial Clustering of Landfills to capture regional effects"
   ]
  },
  {
   "cell_type": "code",
   "execution_count": 5,
   "id": "c256b95c",
   "metadata": {},
   "outputs": [
    {
     "name": "stderr",
     "output_type": "stream",
     "text": [
      "d:\\waste_management\\venv\\lib\\site-packages\\sklearn\\cluster\\_kmeans.py:870: FutureWarning: The default value of `n_init` will change from 10 to 'auto' in 1.4. Set the value of `n_init` explicitly to suppress the warning\n",
      "  warnings.warn(\n"
     ]
    },
    {
     "name": "stdout",
     "output_type": "stream",
     "text": [
      "Created Landfill_Region_Cluster categorical feature using KMeans clustering.\n"
     ]
    }
   ],
   "source": [
    "# Make sure latitude and longitude exist and have no missing values\n",
    "geo_cols = ['Landfill_Lat', 'Landfill_Long']\n",
    "\n",
    "if all(col in df.columns for col in geo_cols):\n",
    "    geo_data = df[geo_cols].dropna()\n",
    "\n",
    "    # Choose number of clusters (for example k=4)\n",
    "    kmeans = KMeans(n_clusters=4, random_state=42)\n",
    "    df.loc[geo_data.index, 'Landfill_Region_Cluster'] = kmeans.fit_predict(geo_data)\n",
    "\n",
    "    # Convert to category type\n",
    "    df['Landfill_Region_Cluster'] = df['Landfill_Region_Cluster'].astype('category')\n",
    "    print(\"Created Landfill_Region_Cluster categorical feature using KMeans clustering.\")"
   ]
  },
  {
   "cell_type": "markdown",
   "id": "0ccfe1c7",
   "metadata": {},
   "source": [
    "Target Encoding for high cardinality categorical: City_WasteType"
   ]
  },
  {
   "cell_type": "code",
   "execution_count": 6,
   "id": "cc0dd298",
   "metadata": {},
   "outputs": [],
   "source": [
    "# Calculate global mean of target for replacement\n",
    "global_mean = df['Recycling Rate (%)'].mean()\n",
    "\n",
    "city_waste_target_mean = df.groupby('City_WasteType')['Recycling Rate (%)'].mean()\n",
    "city_waste_target_count = df.groupby('City_WasteType')['Recycling Rate (%)'].count()"
   ]
  },
  {
   "cell_type": "code",
   "execution_count": 7,
   "id": "9b796363",
   "metadata": {},
   "outputs": [],
   "source": [
    "# Define smoothing function to reduce noise for rare categories\n",
    "def smooth_target_encoding(count, mean, global_mean=global_mean, alpha=10):\n",
    "    return (count * mean + alpha * global_mean) / (count + alpha)\n",
    "\n",
    "city_waste_encoded = pd.DataFrame({\n",
    "    'mean_target': city_waste_target_mean,\n",
    "    'count': city_waste_target_count\n",
    "})\n",
    "\n",
    "city_waste_encoded['smooth_mean'] = city_waste_encoded.apply(\n",
    "    lambda row: smooth_target_encoding(row['count'], row['mean_target']), axis=1)"
   ]
  },
  {
   "cell_type": "code",
   "execution_count": 8,
   "id": "f95d2a82",
   "metadata": {},
   "outputs": [],
   "source": [
    "# Map encoding back to dataframe\n",
    "df['City_WasteType_TE'] = df['City_WasteType'].map(city_waste_encoded['smooth_mean'])"
   ]
  },
  {
   "cell_type": "markdown",
   "id": "a1098112",
   "metadata": {},
   "source": [
    "Outlier Flags for key numeric features"
   ]
  },
  {
   "cell_type": "code",
   "execution_count": 9,
   "id": "b93e6c29",
   "metadata": {},
   "outputs": [
    {
     "name": "stdout",
     "output_type": "stream",
     "text": [
      "Created outlier flag Waste Generated (Tons/Day)_OutlierFlag for Waste Generated (Tons/Day)\n",
      "Created outlier flag Cost of Waste Management (₹/Ton)_OutlierFlag for Cost of Waste Management (₹/Ton)\n",
      "Created outlier flag Population Density (People/km²)_OutlierFlag for Population Density (People/km²)\n"
     ]
    }
   ],
   "source": [
    "for col in ['Waste Generated (Tons/Day)', 'Cost of Waste Management (₹/Ton)', 'Population Density (People/km²)']:\n",
    "    q1 = df[col].quantile(0.25)\n",
    "    q3 = df[col].quantile(0.75)\n",
    "    iqr = q3 - q1\n",
    "    lower_bound = q1 - 1.5 * iqr\n",
    "    upper_bound = q3 + 1.5 * iqr\n",
    "\n",
    "    flag_col = col + '_OutlierFlag'\n",
    "    df[flag_col] = ((df[col] < lower_bound) | (df[col] > upper_bound)).astype(int)\n",
    "    print(f\"Created outlier flag {flag_col} for {col}\")"
   ]
  },
  {
   "cell_type": "markdown",
   "id": "733e2c30",
   "metadata": {},
   "source": [
    "Encoding of new categorical variables"
   ]
  },
  {
   "cell_type": "code",
   "execution_count": 10,
   "id": "60ad4400",
   "metadata": {},
   "outputs": [],
   "source": [
    "# For modeling, you may want to one-hot encode Landfill_Region_Cluster or use label encoding\n",
    "df = pd.get_dummies(df, columns=['Landfill_Region_Cluster'], drop_first=True)"
   ]
  },
  {
   "cell_type": "markdown",
   "id": "3f2a9ab4",
   "metadata": {},
   "source": [
    "Save the updated data for next modeling stage"
   ]
  },
  {
   "cell_type": "code",
   "execution_count": 11,
   "id": "ef02096d",
   "metadata": {},
   "outputs": [
    {
     "name": "stdout",
     "output_type": "stream",
     "text": [
      "Feature engineered dataset saved as 'waste_data_feature_engineered.csv'\n"
     ]
    }
   ],
   "source": [
    "\n",
    "df.to_csv('D:\\waste_management\\data\\processed\\waste_data_feature_engineered.csv', index=False)\n",
    "print(\"Feature engineered dataset saved as 'waste_data_feature_engineered.csv'\")"
   ]
  },
  {
   "cell_type": "code",
   "execution_count": null,
   "id": "607fd4bb",
   "metadata": {},
   "outputs": [],
   "source": []
  }
 ],
 "metadata": {
  "kernelspec": {
   "display_name": "venv",
   "language": "python",
   "name": "python3"
  },
  "language_info": {
   "codemirror_mode": {
    "name": "ipython",
    "version": 3
   },
   "file_extension": ".py",
   "mimetype": "text/x-python",
   "name": "python",
   "nbconvert_exporter": "python",
   "pygments_lexer": "ipython3",
   "version": "3.10.11"
  }
 },
 "nbformat": 4,
 "nbformat_minor": 5
}
