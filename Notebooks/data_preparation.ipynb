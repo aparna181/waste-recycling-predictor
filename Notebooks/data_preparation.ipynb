{
 "cells": [
  {
   "cell_type": "code",
   "execution_count": 2,
   "id": "433a72be",
   "metadata": {},
   "outputs": [],
   "source": [
    "import os\n",
    "import pandas as pd\n",
    "import numpy as np\n",
    "import matplotlib.pyplot as plt\n",
    "import seaborn as sns"
   ]
  },
  {
   "cell_type": "code",
   "execution_count": 5,
   "id": "80a0ea47",
   "metadata": {},
   "outputs": [
    {
     "name": "stdout",
     "output_type": "stream",
     "text": [
      "Data Loaded. First 5 rows:\n"
     ]
    },
    {
     "data": {
      "text/html": [
       "<div>\n",
       "<style scoped>\n",
       "    .dataframe tbody tr th:only-of-type {\n",
       "        vertical-align: middle;\n",
       "    }\n",
       "\n",
       "    .dataframe tbody tr th {\n",
       "        vertical-align: top;\n",
       "    }\n",
       "\n",
       "    .dataframe thead th {\n",
       "        text-align: right;\n",
       "    }\n",
       "</style>\n",
       "<table border=\"1\" class=\"dataframe\">\n",
       "  <thead>\n",
       "    <tr style=\"text-align: right;\">\n",
       "      <th></th>\n",
       "      <th>City/District</th>\n",
       "      <th>Waste Type</th>\n",
       "      <th>Waste Generated (Tons/Day)</th>\n",
       "      <th>Recycling Rate (%)</th>\n",
       "      <th>Population Density (People/km²)</th>\n",
       "      <th>Municipal Efficiency Score (1-10)</th>\n",
       "      <th>Disposal Method</th>\n",
       "      <th>Cost of Waste Management (₹/Ton)</th>\n",
       "      <th>Awareness Campaigns Count</th>\n",
       "      <th>Landfill Name</th>\n",
       "      <th>Landfill Location (Lat, Long)</th>\n",
       "      <th>Landfill Capacity (Tons)</th>\n",
       "      <th>Year</th>\n",
       "    </tr>\n",
       "  </thead>\n",
       "  <tbody>\n",
       "    <tr>\n",
       "      <th>0</th>\n",
       "      <td>Mumbai</td>\n",
       "      <td>Plastic</td>\n",
       "      <td>6610</td>\n",
       "      <td>68</td>\n",
       "      <td>11191</td>\n",
       "      <td>9</td>\n",
       "      <td>Composting</td>\n",
       "      <td>3056</td>\n",
       "      <td>14</td>\n",
       "      <td>Mumbai Landfill</td>\n",
       "      <td>22.4265, 77.4931</td>\n",
       "      <td>45575</td>\n",
       "      <td>2019</td>\n",
       "    </tr>\n",
       "    <tr>\n",
       "      <th>1</th>\n",
       "      <td>Mumbai</td>\n",
       "      <td>Organic</td>\n",
       "      <td>1181</td>\n",
       "      <td>56</td>\n",
       "      <td>11191</td>\n",
       "      <td>5</td>\n",
       "      <td>Composting</td>\n",
       "      <td>2778</td>\n",
       "      <td>12</td>\n",
       "      <td>Mumbai Landfill</td>\n",
       "      <td>22.4265, 77.4931</td>\n",
       "      <td>45575</td>\n",
       "      <td>2019</td>\n",
       "    </tr>\n",
       "    <tr>\n",
       "      <th>2</th>\n",
       "      <td>Mumbai</td>\n",
       "      <td>E-Waste</td>\n",
       "      <td>8162</td>\n",
       "      <td>53</td>\n",
       "      <td>11191</td>\n",
       "      <td>8</td>\n",
       "      <td>Incineration</td>\n",
       "      <td>3390</td>\n",
       "      <td>13</td>\n",
       "      <td>Mumbai Landfill</td>\n",
       "      <td>22.4265, 77.4931</td>\n",
       "      <td>45575</td>\n",
       "      <td>2019</td>\n",
       "    </tr>\n",
       "    <tr>\n",
       "      <th>3</th>\n",
       "      <td>Mumbai</td>\n",
       "      <td>Construction</td>\n",
       "      <td>8929</td>\n",
       "      <td>56</td>\n",
       "      <td>11191</td>\n",
       "      <td>5</td>\n",
       "      <td>Landfill</td>\n",
       "      <td>1498</td>\n",
       "      <td>14</td>\n",
       "      <td>Mumbai Landfill</td>\n",
       "      <td>22.4265, 77.4931</td>\n",
       "      <td>45575</td>\n",
       "      <td>2019</td>\n",
       "    </tr>\n",
       "    <tr>\n",
       "      <th>4</th>\n",
       "      <td>Mumbai</td>\n",
       "      <td>Hazardous</td>\n",
       "      <td>5032</td>\n",
       "      <td>44</td>\n",
       "      <td>11191</td>\n",
       "      <td>7</td>\n",
       "      <td>Recycling</td>\n",
       "      <td>2221</td>\n",
       "      <td>16</td>\n",
       "      <td>Mumbai Landfill</td>\n",
       "      <td>22.4265, 77.4931</td>\n",
       "      <td>45575</td>\n",
       "      <td>2019</td>\n",
       "    </tr>\n",
       "  </tbody>\n",
       "</table>\n",
       "</div>"
      ],
      "text/plain": [
       "  City/District    Waste Type  Waste Generated (Tons/Day)  Recycling Rate (%)  \\\n",
       "0        Mumbai       Plastic                        6610                  68   \n",
       "1        Mumbai       Organic                        1181                  56   \n",
       "2        Mumbai       E-Waste                        8162                  53   \n",
       "3        Mumbai  Construction                        8929                  56   \n",
       "4        Mumbai     Hazardous                        5032                  44   \n",
       "\n",
       "   Population Density (People/km²)  Municipal Efficiency Score (1-10)  \\\n",
       "0                            11191                                  9   \n",
       "1                            11191                                  5   \n",
       "2                            11191                                  8   \n",
       "3                            11191                                  5   \n",
       "4                            11191                                  7   \n",
       "\n",
       "  Disposal Method  Cost of Waste Management (₹/Ton)  \\\n",
       "0      Composting                              3056   \n",
       "1      Composting                              2778   \n",
       "2    Incineration                              3390   \n",
       "3        Landfill                              1498   \n",
       "4       Recycling                              2221   \n",
       "\n",
       "   Awareness Campaigns Count    Landfill Name Landfill Location (Lat, Long)  \\\n",
       "0                         14  Mumbai Landfill              22.4265, 77.4931   \n",
       "1                         12  Mumbai Landfill              22.4265, 77.4931   \n",
       "2                         13  Mumbai Landfill              22.4265, 77.4931   \n",
       "3                         14  Mumbai Landfill              22.4265, 77.4931   \n",
       "4                         16  Mumbai Landfill              22.4265, 77.4931   \n",
       "\n",
       "   Landfill Capacity (Tons)  Year  \n",
       "0                     45575  2019  \n",
       "1                     45575  2019  \n",
       "2                     45575  2019  \n",
       "3                     45575  2019  \n",
       "4                     45575  2019  "
      ]
     },
     "metadata": {},
     "output_type": "display_data"
    }
   ],
   "source": [
    "# ========== 1. Load Data ==========\n",
    "data_path = r'D:\\waste_management\\data\\raw\\waste_data.csv'  # Adjust path accordingly\n",
    "df = pd.read_csv(data_path)\n",
    "\n",
    "print(\"Data Loaded. First 5 rows:\")\n",
    "display(df.head())"
   ]
  },
  {
   "cell_type": "markdown",
   "id": "56267680",
   "metadata": {},
   "source": [
    "========== 2. Basic Info & Missing Values =========="
   ]
  },
  {
   "cell_type": "code",
   "execution_count": 6,
   "id": "be8ab485",
   "metadata": {},
   "outputs": [
    {
     "name": "stdout",
     "output_type": "stream",
     "text": [
      "\n",
      "Dataset Info:\n",
      "<class 'pandas.core.frame.DataFrame'>\n",
      "RangeIndex: 850 entries, 0 to 849\n",
      "Data columns (total 13 columns):\n",
      " #   Column                             Non-Null Count  Dtype \n",
      "---  ------                             --------------  ----- \n",
      " 0   City/District                      850 non-null    object\n",
      " 1   Waste Type                         850 non-null    object\n",
      " 2   Waste Generated (Tons/Day)         850 non-null    int64 \n",
      " 3   Recycling Rate (%)                 850 non-null    int64 \n",
      " 4   Population Density (People/km²)    850 non-null    int64 \n",
      " 5   Municipal Efficiency Score (1-10)  850 non-null    int64 \n",
      " 6   Disposal Method                    850 non-null    object\n",
      " 7   Cost of Waste Management (₹/Ton)   850 non-null    int64 \n",
      " 8   Awareness Campaigns Count          850 non-null    int64 \n",
      " 9   Landfill Name                      850 non-null    object\n",
      " 10  Landfill Location (Lat, Long)      850 non-null    object\n",
      " 11  Landfill Capacity (Tons)           850 non-null    int64 \n",
      " 12  Year                               850 non-null    int64 \n",
      "dtypes: int64(8), object(5)\n",
      "memory usage: 86.5+ KB\n"
     ]
    },
    {
     "data": {
      "text/plain": [
       "None"
      ]
     },
     "metadata": {},
     "output_type": "display_data"
    },
    {
     "name": "stdout",
     "output_type": "stream",
     "text": [
      "\n",
      "Missing values per column:\n"
     ]
    },
    {
     "data": {
      "text/plain": [
       "City/District                        0\n",
       "Waste Type                           0\n",
       "Waste Generated (Tons/Day)           0\n",
       "Recycling Rate (%)                   0\n",
       "Population Density (People/km²)      0\n",
       "Municipal Efficiency Score (1-10)    0\n",
       "Disposal Method                      0\n",
       "Cost of Waste Management (₹/Ton)     0\n",
       "Awareness Campaigns Count            0\n",
       "Landfill Name                        0\n",
       "Landfill Location (Lat, Long)        0\n",
       "Landfill Capacity (Tons)             0\n",
       "Year                                 0\n",
       "dtype: int64"
      ]
     },
     "metadata": {},
     "output_type": "display_data"
    }
   ],
   "source": [
    "print(\"\\nDataset Info:\")\n",
    "display(df.info())\n",
    "\n",
    "print(\"\\nMissing values per column:\")\n",
    "missing_counts = df.isnull().sum()\n",
    "display(missing_counts)"
   ]
  },
  {
   "cell_type": "markdown",
   "id": "b80a8ca2",
   "metadata": {},
   "source": [
    "========== 3. Handle Missing Values =========="
   ]
  },
  {
   "cell_type": "code",
   "execution_count": 8,
   "id": "d96a0aed",
   "metadata": {},
   "outputs": [],
   "source": [
    "#Numeric columns\n",
    "numeric_cols = [\n",
    "    'Waste Generated (Tons/Day)', 'Recycling Rate (%)', 'Population Density (People/km²)',\n",
    "    'Municipal Efficiency Score (1-10)', 'Cost of Waste Management (₹/Ton)', \n",
    "    'Awareness Campaigns Count', 'Landfill Capacity (Tons)'\n",
    "]"
   ]
  },
  {
   "cell_type": "code",
   "execution_count": 9,
   "id": "a22990cc",
   "metadata": {},
   "outputs": [],
   "source": [
    "# Categorical columns\n",
    "categorical_cols = ['City/District', 'Waste Type', 'Disposal Method', 'Landfill Name']"
   ]
  },
  {
   "cell_type": "code",
   "execution_count": 10,
   "id": "62913502",
   "metadata": {},
   "outputs": [],
   "source": [
    "# Geospatial column combined\n",
    "geo_col_combined = 'Landfill Location (Lat, Long)'"
   ]
  },
  {
   "cell_type": "code",
   "execution_count": 11,
   "id": "153417b7",
   "metadata": {},
   "outputs": [
    {
     "name": "stdout",
     "output_type": "stream",
     "text": [
      "Filled missing numeric 'Waste Generated (Tons/Day)' with median: 5283.0\n",
      "Filled missing numeric 'Recycling Rate (%)' with median: 56.0\n",
      "Filled missing numeric 'Population Density (People/km²)' with median: 12579.5\n",
      "Filled missing numeric 'Municipal Efficiency Score (1-10)' with median: 7.0\n",
      "Filled missing numeric 'Cost of Waste Management (₹/Ton)' with median: 2853.0\n",
      "Filled missing numeric 'Awareness Campaigns Count' with median: 10.0\n",
      "Filled missing numeric 'Landfill Capacity (Tons)' with median: 61038.5\n"
     ]
    }
   ],
   "source": [
    "# Handle numeric missing values with median\n",
    "for col in numeric_cols:\n",
    "    if col in df.columns:\n",
    "        median_val = df[col].median()\n",
    "        df[col].fillna(median_val, inplace=True)\n",
    "        print(f\"Filled missing numeric '{col}' with median: {median_val}\")"
   ]
  },
  {
   "cell_type": "code",
   "execution_count": 12,
   "id": "9f6eb26a",
   "metadata": {},
   "outputs": [
    {
     "name": "stdout",
     "output_type": "stream",
     "text": [
      "Filled missing categorical 'City/District' with 'Unknown'\n",
      "Filled missing categorical 'Waste Type' with 'Unknown'\n",
      "Filled missing categorical 'Disposal Method' with 'Unknown'\n",
      "Filled missing categorical 'Landfill Name' with 'Unknown'\n"
     ]
    }
   ],
   "source": [
    "# Handle categorical missing values with 'Unknown'\n",
    "for col in categorical_cols:\n",
    "    if col in df.columns:\n",
    "        df[col].fillna('Unknown', inplace=True)\n",
    "        print(f\"Filled missing categorical '{col}' with 'Unknown'\")"
   ]
  },
  {
   "cell_type": "code",
   "execution_count": 13,
   "id": "3e6c4cd6",
   "metadata": {},
   "outputs": [
    {
     "name": "stdout",
     "output_type": "stream",
     "text": [
      "Remaining missing values in Landfill_Lat: 0\n",
      "Remaining missing values in Landfill_Long: 0\n"
     ]
    }
   ],
   "source": [
    "# Handle geospatial column: split and fill missing with forward & backward fill\n",
    "if geo_col_combined in df.columns:\n",
    "    df[['Landfill_Lat', 'Landfill_Long']] = df[geo_col_combined].str.split(',', expand=True)\n",
    "    df['Landfill_Lat'] = pd.to_numeric(df['Landfill_Lat'], errors='coerce')\n",
    "    df['Landfill_Long'] = pd.to_numeric(df['Landfill_Long'], errors='coerce')\n",
    "    # Drop original combined column\n",
    "    df.drop(columns=[geo_col_combined], inplace=True)\n",
    "\n",
    "    for col in ['Landfill_Lat', 'Landfill_Long']:\n",
    "        df[col].fillna(method='ffill', inplace=True)\n",
    "        df[col].fillna(method='bfill', inplace=True)\n",
    "        remaining_nulls = df[col].isnull().sum()\n",
    "        print(f\"Remaining missing values in {col}: {remaining_nulls}\")"
   ]
  },
  {
   "cell_type": "code",
   "execution_count": 14,
   "id": "2800827c",
   "metadata": {},
   "outputs": [
    {
     "name": "stdout",
     "output_type": "stream",
     "text": [
      "\n",
      "Missing values after imputation:\n"
     ]
    },
    {
     "data": {
      "text/plain": [
       "City/District                        0\n",
       "Waste Type                           0\n",
       "Waste Generated (Tons/Day)           0\n",
       "Recycling Rate (%)                   0\n",
       "Population Density (People/km²)      0\n",
       "Municipal Efficiency Score (1-10)    0\n",
       "Disposal Method                      0\n",
       "Cost of Waste Management (₹/Ton)     0\n",
       "Awareness Campaigns Count            0\n",
       "Landfill Name                        0\n",
       "Landfill Capacity (Tons)             0\n",
       "Year                                 0\n",
       "Landfill_Lat                         0\n",
       "Landfill_Long                        0\n",
       "dtype: int64"
      ]
     },
     "metadata": {},
     "output_type": "display_data"
    }
   ],
   "source": [
    "# Confirm no missing values remain\n",
    "print(\"\\nMissing values after imputation:\")\n",
    "display(df.isnull().sum())"
   ]
  },
  {
   "cell_type": "markdown",
   "id": "c847e9b3",
   "metadata": {},
   "source": [
    "========== 4. Data Type Correction =========="
   ]
  },
  {
   "cell_type": "code",
   "execution_count": 15,
   "id": "84a691c8",
   "metadata": {},
   "outputs": [],
   "source": [
    "\n",
    "for col in categorical_cols:\n",
    "    if col in df.columns:\n",
    "        df[col] = df[col].astype('category')\n",
    "\n",
    "if 'Year' in df.columns:\n",
    "    df['Year'] = df['Year'].astype(int)"
   ]
  },
  {
   "cell_type": "markdown",
   "id": "0953660d",
   "metadata": {},
   "source": [
    "========== 5. Outlier Treatment ==========\n"
   ]
  },
  {
   "cell_type": "code",
   "execution_count": 17,
   "id": "bbfe19db",
   "metadata": {},
   "outputs": [
    {
     "data": {
      "image/png": "[encoded data removed]",
      "text/plain": [
       "<Figure size 600x200 with 1 Axes>"
      ]
     },
     "metadata": {},
     "output_type": "display_data"
    },
    {
     "name": "stdout",
     "output_type": "stream",
     "text": [
      "Capped 'Waste Generated (Tons/Day)' at 99th percentile: 9850.3409\n"
     ]
    },
    {
     "data": {
      "image/png": "[encoded data removed]",
      "text/plain": [
       "<Figure size 600x200 with 1 Axes>"
      ]
     },
     "metadata": {},
     "output_type": "display_data"
    },
    {
     "name": "stdout",
     "output_type": "stream",
     "text": [
      "Capped 'Recycling Rate (%)' at 99th percentile: 85.0\n"
     ]
    },
    {
     "data": {
      "image/png": "[encoded data removed]",
      "text/plain": [
       "<Figure size 600x200 with 1 Axes>"
      ]
     },
     "metadata": {},
     "output_type": "display_data"
    },
    {
     "name": "stdout",
     "output_type": "stream",
     "text": [
      "Capped 'Population Density (People/km²)' at 99th percentile: 24032.0\n"
     ]
    },
    {
     "data": {
      "image/png": "[encoded data removed]",
      "text/plain": [
       "<Figure size 600x200 with 1 Axes>"
      ]
     },
     "metadata": {},
     "output_type": "display_data"
    },
    {
     "name": "stdout",
     "output_type": "stream",
     "text": [
      "Capped 'Municipal Efficiency Score (1-10)' at 99th percentile: 10.0\n"
     ]
    },
    {
     "data": {
      "image/png": "[encoded data removed]",
      "text/plain": [
       "<Figure size 600x200 with 1 Axes>"
      ]
     },
     "metadata": {},
     "output_type": "display_data"
    },
    {
     "name": "stdout",
     "output_type": "stream",
     "text": [
      "Capped 'Cost of Waste Management (₹/Ton)' at 99th percentile: 4952.0\n"
     ]
    },
    {
     "data": {
      "image/png": "[encoded data removed]",
      "text/plain": [
       "<Figure size 600x200 with 1 Axes>"
      ]
     },
     "metadata": {},
     "output_type": "display_data"
    },
    {
     "name": "stdout",
     "output_type": "stream",
     "text": [
      "Capped 'Awareness Campaigns Count' at 99th percentile: 20.0\n"
     ]
    },
    {
     "data": {
      "image/png": "[encoded data removed]",
      "text/plain": [
       "<Figure size 600x200 with 1 Axes>"
      ]
     },
     "metadata": {},
     "output_type": "display_data"
    },
    {
     "name": "stdout",
     "output_type": "stream",
     "text": [
      "Capped 'Landfill Capacity (Tons)' at 99th percentile: 98646.0\n"
     ]
    }
   ],
   "source": [
    "#Visualize numeric columns for outliers\n",
    "for col in numeric_cols:\n",
    "    if col in df.columns:\n",
    "        plt.figure(figsize=(6,2))\n",
    "        sns.boxplot(x=df[col])\n",
    "        plt.title(f'Boxplot for {col}')\n",
    "        plt.show()\n",
    "\n",
    "        # Cap at 99th percentile to reduce skew impact\n",
    "        cap_value = df[col].quantile(0.99)\n",
    "        df[col] = np.where(df[col] > cap_value, cap_value, df[col])\n",
    "        print(f\"Capped '{col}' at 99th percentile: {cap_value}\")"
   ]
  },
  {
   "cell_type": "code",
   "execution_count": 18,
   "id": "554c1577",
   "metadata": {},
   "outputs": [],
   "source": [
    "# Waste per capita (kg/person/day)\n",
    "df['Waste_Per_Capita_kg'] = 1000 * df['Waste Generated (Tons/Day)'] / df['Population Density (People/km²)']\n",
    "\n",
    "# Landfill Utilization ratio (waste generated per day / landfill capacity)\n",
    "df['Landfill_Utilization_Ratio'] = df['Waste Generated (Tons/Day)'] / df['Landfill Capacity (Tons)']\n",
    "\n",
    "# Avoid division by zero or NaN for Awareness Campaigns Count\n",
    "df['Awareness Campaigns Count'] = df['Awareness Campaigns Count'].replace(0, np.nan)\n",
    "df['Cost_Per_Campaign'] = df['Cost of Waste Management (₹/Ton)'] / df['Awareness Campaigns Count']\n",
    "# Replace infinite or NaN with zero (or any suitable value)\n",
    "df['Cost_Per_Campaign'].replace([np.inf, -np.inf], np.nan, inplace=True)\n",
    "df['Cost_Per_Campaign'].fillna(0, inplace=True)\n",
    "\n",
    "# Cyclic encoding of Year (if column exists)\n",
    "if 'Year' in df.columns:\n",
    "    max_year = df['Year'].max()\n",
    "    df['Year_Sin'] = np.sin(2 * np.pi * df['Year'] / max_year)\n",
    "    df['Year_Cos'] = np.cos(2 * np.pi * df['Year'] / max_year)"
   ]
  },
  {
   "cell_type": "code",
   "execution_count": 19,
   "id": "c8b22a5a",
   "metadata": {},
   "outputs": [
    {
     "name": "stdout",
     "output_type": "stream",
     "text": [
      "\n",
      "Columns after one-hot encoding:\n",
      "Index(['Waste Generated (Tons/Day)', 'Recycling Rate (%)',\n",
      "       'Population Density (People/km²)', 'Municipal Efficiency Score (1-10)',\n",
      "       'Cost of Waste Management (₹/Ton)', 'Awareness Campaigns Count',\n",
      "       'Landfill Capacity (Tons)', 'Year', 'Landfill_Lat', 'Landfill_Long',\n",
      "       'Waste_Per_Capita_kg', 'Landfill_Utilization_Ratio',\n",
      "       'Cost_Per_Campaign', 'Year_Sin', 'Year_Cos', 'City/District_Ahmedabad',\n",
      "       'City/District_Allahabad', 'City/District_Amritsar',\n",
      "       'City/District_Bengaluru', 'City/District_Bhopal',\n",
      "       'City/District_Chennai', 'City/District_Coimbatore',\n",
      "       'City/District_Delhi', 'City/District_Guwahati',\n",
      "       'City/District_Gwalior', 'City/District_Hyderabad',\n",
      "       'City/District_Indore', 'City/District_Jabalpur',\n",
      "       'City/District_Jaipur', 'City/District_Jodhpur', 'City/District_Kanpur',\n",
      "       'City/District_Kolkata', 'City/District_Lucknow',\n",
      "       'City/District_Ludhiana', 'City/District_Madurai',\n",
      "       'City/District_Meerut', 'City/District_Mumbai', 'City/District_Nagpur',\n",
      "       'City/District_Nashik', 'City/District_Patna', 'City/District_Pune',\n",
      "       'City/District_Rajkot', 'City/District_Ranchi', 'City/District_Surat',\n",
      "       'City/District_Thiruvananthapuram', 'City/District_Vadodara',\n",
      "       'City/District_Varanasi', 'City/District_Visakhapatnam',\n",
      "       'Waste Type_E-Waste', 'Waste Type_Hazardous', 'Waste Type_Organic',\n",
      "       'Waste Type_Plastic', 'Disposal Method_Incineration',\n",
      "       'Disposal Method_Landfill', 'Disposal Method_Recycling',\n",
      "       'Landfill Name_Ahmedabad Landfill', 'Landfill Name_Allahabad Landfill',\n",
      "       'Landfill Name_Amritsar Landfill', 'Landfill Name_Bengaluru Landfill',\n",
      "       'Landfill Name_Bhopal Landfill', 'Landfill Name_Chennai Landfill',\n",
      "       'Landfill Name_Coimbatore Landfill', 'Landfill Name_Delhi Landfill',\n",
      "       'Landfill Name_Guwahati Landfill', 'Landfill Name_Gwalior Landfill',\n",
      "       'Landfill Name_Hyderabad Landfill', 'Landfill Name_Indore Landfill',\n",
      "       'Landfill Name_Jabalpur Landfill', 'Landfill Name_Jaipur Landfill',\n",
      "       'Landfill Name_Jodhpur Landfill', 'Landfill Name_Kanpur Landfill',\n",
      "       'Landfill Name_Kolkata Landfill', 'Landfill Name_Lucknow Landfill',\n",
      "       'Landfill Name_Ludhiana Landfill', 'Landfill Name_Madurai Landfill',\n",
      "       'Landfill Name_Meerut Landfill', 'Landfill Name_Mumbai Landfill',\n",
      "       'Landfill Name_Nagpur Landfill', 'Landfill Name_Nashik Landfill',\n",
      "       'Landfill Name_Patna Landfill', 'Landfill Name_Pune Landfill',\n",
      "       'Landfill Name_Rajkot Landfill', 'Landfill Name_Ranchi Landfill',\n",
      "       'Landfill Name_Surat Landfill',\n",
      "       'Landfill Name_Thiruvananthapuram Landfill',\n",
      "       'Landfill Name_Vadodara Landfill', 'Landfill Name_Varanasi Landfill',\n",
      "       'Landfill Name_Visakhapatnam Landfill'],\n",
      "      dtype='object')\n"
     ]
    }
   ],
   "source": [
    "df_encoded = pd.get_dummies(df, columns=categorical_cols, drop_first=True)\n",
    "\n",
    "print(\"\\nColumns after one-hot encoding:\")\n",
    "print(df_encoded.columns)"
   ]
  },
  {
   "cell_type": "markdown",
   "id": "09dbae6e",
   "metadata": {},
   "source": [
    "========== 8. Save Cleaned and Processed Data =========="
   ]
  },
  {
   "cell_type": "code",
   "execution_count": 22,
   "id": "84ad016d",
   "metadata": {},
   "outputs": [
    {
     "name": "stdout",
     "output_type": "stream",
     "text": [
      "Cleaned data saved to D:\\waste_management\\data\\processed\\waste_data_cleaned.csv\n",
      "Encoded data saved to D:\\waste_management\\data\\processed\\waste_data_encoded.csv\n"
     ]
    }
   ],
   "source": [
    "processed_folder = 'D:\\waste_management\\data\\processed'\n",
    "os.makedirs(processed_folder, exist_ok=True)\n",
    "\n",
    "cleaned_path = os.path.join(processed_folder, 'waste_data_cleaned.csv')\n",
    "encoded_path = os.path.join(processed_folder, 'waste_data_encoded.csv')\n",
    "\n",
    "df.to_csv(cleaned_path, index=False)\n",
    "print(f\"Cleaned data saved to {cleaned_path}\")\n",
    "\n",
    "df_encoded.to_csv(encoded_path, index=False)\n",
    "print(f\"Encoded data saved to {encoded_path}\")"
   ]
  },
  {
   "cell_type": "markdown",
   "id": "abf73e34",
   "metadata": {},
   "source": [
    "========== 9. Summary =========="
   ]
  },
  {
   "cell_type": "code",
   "execution_count": 23,
   "id": "24311348",
   "metadata": {},
   "outputs": [
    {
     "name": "stdout",
     "output_type": "stream",
     "text": [
      "\n",
      "Summary:\n",
      "Dataset shape before encoding: (850, 19)\n",
      "Dataset shape after encoding: (850, 88)\n"
     ]
    }
   ],
   "source": [
    "\n",
    "print(\"\\nSummary:\")\n",
    "print(f\"Dataset shape before encoding: {df.shape}\")\n",
    "print(f\"Dataset shape after encoding: {df_encoded.shape}\")"
   ]
  },
  {
   "cell_type": "code",
   "execution_count": null,
   "id": "bac1a3df",
   "metadata": {},
   "outputs": [],
   "source": []
  }
 ],
 "metadata": {
  "kernelspec": {
   "display_name": "venv",
   "language": "python",
   "name": "python3"
  },
  "language_info": {
   "codemirror_mode": {
    "name": "ipython",
    "version": 3
   },
   "file_extension": ".py",
   "mimetype": "text/x-python",
   "name": "python",
   "nbconvert_exporter": "python",
   "pygments_lexer": "ipython3",
   "version": "3.10.11"
  }
 },
 "nbformat": 4,
 "nbformat_minor": 5
}
